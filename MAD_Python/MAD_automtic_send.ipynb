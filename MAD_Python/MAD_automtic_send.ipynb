{
 "cells": [
  {
   "cell_type": "markdown",
   "metadata": {},
   "source": [
    "<p style='text-align: right;'> <b>Stefano Caglio</b> © 2020<br>\n",
    "📫 <a href=\"mailto:stefano.caglio@gmail.com\">stefano.caglio@gmail.com</a><br>\n",
    "🔗 <a href=\"https://www.stefanocaglio.com\">stefanocaglio.com</a></p>"
   ]
  },
  {
   "cell_type": "markdown",
   "metadata": {},
   "source": [
    "# Automatic email sender - v.1.0.0 - 2020/11/27\n",
    "\n",
    "### Specifications\n",
    "\n",
    "What this automatic email sender does:\n",
    "- Import data (email address + other fields for customizing email) from an external csv\n",
    "- Search and attach customized files from an external folder\n",
    "- Access and send emails using an SMTP server\n",
    "\n",
    "### Table of content\n",
    "* [Import modules](#chapter-1)\n",
    "* [Logger parameters adjustment](#chapter-2)\n",
    "* [Use pandas for importing csv data file and managing it](#chapter-3)\n",
    "* [Main loops](#chapter-4)\n",
    "* [Switch off logging](#chapter-5)\n",
    "\n",
    "#### Import modules <a id=\"chapter-1\"></a>"
   ]
  },
  {
   "cell_type": "code",
   "execution_count": 1,
   "metadata": {},
   "outputs": [],
   "source": [
    "# openpyxl per lavorare con fogli Excel\n",
    "# import openpyxl, datetime\n",
    "# from datetime import date\n",
    "import smtplib, os\n",
    "from email.mime.multipart import MIMEMultipart \n",
    "from email.mime.text import MIMEText \n",
    "from email.mime.base import MIMEBase \n",
    "from email import encoders \n",
    "import pandas as pd\n",
    "import logging\n",
    "import glob"
   ]
  },
  {
   "cell_type": "markdown",
   "metadata": {},
   "source": [
    "#### Logger parameters adjustment <a id=\"chapter-2\"></a>"
   ]
  },
  {
   "cell_type": "code",
   "execution_count": 2,
   "metadata": {},
   "outputs": [],
   "source": [
    "logger = logging.getLogger('my_logger')\n",
    "\n",
    "logging.basicConfig(\n",
    "    level=logging.DEBUG,\n",
    "    format='%(asctime)s %(levelname)-8s %(message)s',\n",
    "    filename='app1.log', # write to this file\n",
    "    filemode='a+' # open in append mode\n",
    "    )\n",
    "\n",
    "# logging.info('This will get logged to a file') # Just for log file testing porpouse"
   ]
  },
  {
   "cell_type": "markdown",
   "metadata": {},
   "source": [
    "#### Use pandas for importing csv data file and managing it <a id=\"chapter-3\"></a>"
   ]
  },
  {
   "cell_type": "code",
   "execution_count": 31,
   "metadata": {},
   "outputs": [],
   "source": [
    "# Choose the appropriate CSV file\n",
    "# file = r'C:/Users/Lenovo/Documents/Python Scripts/Licei_scelti_9COL.csv'\n",
    "file = r'C:/Users/Lenovo/Desktop/MAD/MAD_Latex/Licei_scelti_9COL_TEST.csv'\n",
    "dfmail = pd.read_csv(file, sep=';')\n",
    "dfmail.rename(columns = {'Indirizzo PEC Autonomia':'PEC'}, inplace = True)\n",
    "# Have a look @ old and new formatting at https://pyformat.info/\n",
    "logging.info('Load data from {}'.format(file))"
   ]
  },
  {
   "cell_type": "code",
   "execution_count": 33,
   "metadata": {},
   "outputs": [
    {
     "data": {
      "text/html": [
       "<div>\n",
       "<style scoped>\n",
       "    .dataframe tbody tr th:only-of-type {\n",
       "        vertical-align: middle;\n",
       "    }\n",
       "\n",
       "    .dataframe tbody tr th {\n",
       "        vertical-align: top;\n",
       "    }\n",
       "\n",
       "    .dataframe thead th {\n",
       "        text-align: right;\n",
       "    }\n",
       "</style>\n",
       "<table border=\"1\" class=\"dataframe\">\n",
       "  <thead>\n",
       "    <tr style=\"text-align: right;\">\n",
       "      <th></th>\n",
       "      <th>Provincia</th>\n",
       "      <th>Codice</th>\n",
       "      <th>Tipologia</th>\n",
       "      <th>Denominazione</th>\n",
       "      <th>Indirizzo</th>\n",
       "      <th>Civico</th>\n",
       "      <th>Comune</th>\n",
       "      <th>CAP</th>\n",
       "      <th>PEC</th>\n",
       "    </tr>\n",
       "  </thead>\n",
       "  <tbody>\n",
       "    <tr>\n",
       "      <th>0</th>\n",
       "      <td>BG</td>\n",
       "      <td>BGPS016011</td>\n",
       "      <td>Istituto Istruzione Secondario Secondo grado</td>\n",
       "      <td>L. Scientifico - Valle Seriana</td>\n",
       "      <td>Via Marconi</td>\n",
       "      <td>45</td>\n",
       "      <td>GAZZANIGA</td>\n",
       "      <td>24025</td>\n",
       "      <td>stefano.caglio@gmail.com</td>\n",
       "    </tr>\n",
       "    <tr>\n",
       "      <th>1</th>\n",
       "      <td>BG</td>\n",
       "      <td>BGPS03401E-01</td>\n",
       "      <td>Istituto Istruzione Secondario Secondo grado</td>\n",
       "      <td>L. Scientifico - Don Milani</td>\n",
       "      <td>Via Rubini</td>\n",
       "      <td>2</td>\n",
       "      <td>ROMANO DI LOMBARDIA</td>\n",
       "      <td>24058</td>\n",
       "      <td>stefano.caglio@troteclaser.com</td>\n",
       "    </tr>\n",
       "  </tbody>\n",
       "</table>\n",
       "</div>"
      ],
      "text/plain": [
       "  Provincia         Codice                                     Tipologia  \\\n",
       "0        BG     BGPS016011  Istituto Istruzione Secondario Secondo grado   \n",
       "1        BG  BGPS03401E-01  Istituto Istruzione Secondario Secondo grado   \n",
       "\n",
       "                    Denominazione    Indirizzo  Civico               Comune  \\\n",
       "0  L. Scientifico - Valle Seriana  Via Marconi      45            GAZZANIGA   \n",
       "1     L. Scientifico - Don Milani   Via Rubini       2  ROMANO DI LOMBARDIA   \n",
       "\n",
       "     CAP                             PEC  \n",
       "0  24025        stefano.caglio@gmail.com  \n",
       "1  24058  stefano.caglio@troteclaser.com  "
      ]
     },
     "execution_count": 33,
     "metadata": {},
     "output_type": "execute_result"
    }
   ],
   "source": [
    "# TO be used for data sanity check\n",
    "dfmail.head()\n",
    "dfmail.tail()"
   ]
  },
  {
   "cell_type": "markdown",
   "metadata": {},
   "source": [
    "#### Main loops <a id=\"chapter-4\"></a>\n",
    "- 1st loop: index representing row# of the data\n",
    "- 2nd loop: search path of files to be attached "
   ]
  },
  {
   "cell_type": "code",
   "execution_count": 21,
   "metadata": {},
   "outputs": [],
   "source": [
    "logging.info('START SENDING EMAIL')\n",
    "\n",
    "for i in dfmail.index:\n",
    "    for name in glob.glob('C:/Users/Lenovo/Desktop/MAD/MAD_Latex/*'+ dfmail.Codice[i] +'*.pdf'):\n",
    "        # - - - - - - - - - - - - - - - - - - - - - - - - - - - - - -\n",
    "        # * * * * * * *    WRITE HERE THE HTML EMAIL  * * * * * * * *\n",
    "        # Mail con allegato il pdf MAD preparata in LaTeX\n",
    "        TO = dfmail.PEC[i]\n",
    "        ##CC = 'stefano.caglio@gmail.com'  # Uncomment when in production to receive a copy of each email\n",
    "        CC = ''\n",
    "        SUBJECT = 'Invio modulo di messa a disposizione a {}, codice {}'.format(dfmail.Denominazione[i], dfmail.Codice[i])\n",
    "        \n",
    "        # exchange Sign In\n",
    "        exchange_sender = 'info@pec.stefanocaglio.com'\n",
    "        exchange_passwd = 'Trodatit2000'\n",
    "\n",
    "        # instance of MIMEMultipart \n",
    "        msg = MIMEMultipart('alternative')\n",
    "\n",
    "        # storing the senders email address   \n",
    "        msg['From'] = exchange_sender\n",
    "\n",
    "        # storing the receivers email address  \n",
    "        msg['To'] = TO\n",
    "        msg['Cc'] = CC\n",
    "\n",
    "        # storing the subject  \n",
    "        msg['Subject'] = SUBJECT\n",
    "\n",
    "        \n",
    "        # Create the body of the message (a plain-text and an HTML version).\n",
    "        text = \"Gentile Dirigente Scolastico,\\n\\nmi auguro di trovare ben Lei e tutti i Suoi collaboratori anche se in una situazione storica che, fortunatamente, viviamo per la prima volta.\\n\\nLe scrivo per sottoporLe la mia messa a disposizione, che trova in allegato a questa mail.\\n\\nNel caso La considerasse in linea con i Vostri requisiti, trova tutti i miei riferimenti sia sul modulo che in calce a questa email.\\n\\nCon i più cordiali saluti\\n\\n\\n     Stefano Caglio\\n\\nTelefono: +39 333 3757003  / / /  +39 345 0457911\\nMail: stefano.caglio@gmail.com  / / /  info@pec.stefanocaglio.com\\nsito stefanocaglio.com\"\n",
    "\n",
    "        html = \"\"\"\\\n",
    "        <html>\n",
    "          <head></head>\n",
    "          <body>\n",
    "            <p>Gentile Dirigente Scolastico,<br><br>\n",
    "                mi auguro di trovare ben Lei e tutti i Suoi collaboratori anche se in una situazione storica che, fortunatamente, viviamo per la prima volta.<br><br>\n",
    "                Le scrivo per sottoporLe la mia messa a disposizione, che trova in allegato a questa mail.<br><br>\n",
    "                Nel caso La considerasse in linea con i Vostri requisiti, trova tutti i miei riferimenti sia sul modulo che in calce a questa email.<br><br>\n",
    "                Con i più cordiali saluti<br><br><br>\n",
    "\n",
    "                     Stefano Caglio<br><br>\n",
    "                📱 +39 333 3757003  / / /  +39 345 0457911<br>\n",
    "                📫 <a href=\"mailto:stefano.caglio@gmail.com\">stefano.caglio@gmail.com</a>  / / /  <a href=\"mailto:info@pec.stefanocaglio.com\">info@pec.stefanocaglio.com</a><br>\n",
    "                🔗 <a href=\"https://www.stefanocaglio.com\">stefanocaglio.com</a>\n",
    "            </p>\n",
    "          </body>\n",
    "        </html>\n",
    "        \"\"\"\n",
    "\n",
    "        # Record the MIME types of both parts - text/plain and text/html.\n",
    "        part1 = MIMEText(text, 'plain')\n",
    "        part2 = MIMEText(html, 'html')\n",
    "\n",
    "        # Attach parts into message container.\n",
    "        # According to RFC 2046, the last part of a multipart message, in this case\n",
    "        # the HTML message, is best and preferred.\n",
    "        msg.attach(part1)\n",
    "        msg.attach(part2)\n",
    "\n",
    "        # Open the file to be sent  \n",
    "        attachment = open(name, 'rb')\n",
    "\n",
    "        # Instance of MIMEBase and named as p \n",
    "        p = MIMEBase('application', 'octet-stream')\n",
    "\n",
    "        # To change the payload into encoded form \n",
    "        p.set_payload((attachment).read()) \n",
    "\n",
    "        # Encode into base64 \n",
    "        encoders.encode_base64(p) \n",
    "\n",
    "        nomePDF = 'MAD_StefanoCaglio_{}.pdf'.format(dfmail.Codice[i])\n",
    "        p.add_header('Content-Disposition', 'attachment; filename= %s' % nomePDF) \n",
    "\n",
    "        # Attach the instance 'p' to instance 'msg' \n",
    "        msg.attach(p)\n",
    "        \n",
    "        # Login to the SMTP server\n",
    "        server = smtplib.SMTP_SSL('smtp.pec-email.com', 465)\n",
    "        server.ehlo()\n",
    "        #server.starttls()\n",
    "        server.login(exchange_sender, exchange_passwd)\n",
    "\n",
    "        # Converts the Multipart msg into a string \n",
    "        mailtext = msg.as_string() \n",
    "\n",
    "        try:\n",
    "            server.sendmail(exchange_sender, msg[\"To\"].split(\",\") + msg[\"Cc\"].split(\",\"), mailtext)\n",
    "            logging.info('Mail sent to {} attaching {}'.format(TO,nomePDF))\n",
    "        except:\n",
    "            logging.warning('ERROR sending mail to {}'.format(TO))\n",
    "\n",
    "        server.quit()\n",
    "        \n",
    "logging.info('END SENDING EMAIL')"
   ]
  },
  {
   "cell_type": "markdown",
   "metadata": {},
   "source": [
    "###### ALWAYS SWITCH OFF LOGGING!!! <a id=\"chapter-5\"></a>"
   ]
  },
  {
   "cell_type": "code",
   "execution_count": 39,
   "metadata": {},
   "outputs": [],
   "source": [
    "logging.shutdown()   # to be placed at the end of the script"
   ]
  },
  {
   "cell_type": "code",
   "execution_count": null,
   "metadata": {},
   "outputs": [],
   "source": []
  }
 ],
 "metadata": {
  "kernelspec": {
   "display_name": "Python 3",
   "language": "python",
   "name": "python3"
  },
  "language_info": {
   "codemirror_mode": {
    "name": "ipython",
    "version": 3
   },
   "file_extension": ".py",
   "mimetype": "text/x-python",
   "name": "python",
   "nbconvert_exporter": "python",
   "pygments_lexer": "ipython3",
   "version": "3.7.7"
  }
 },
 "nbformat": 4,
 "nbformat_minor": 4
}
